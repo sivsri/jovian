{
  "cells": [
    {
      "cell_type": "markdown",
      "metadata": {
        "id": "view-in-github",
        "colab_type": "text"
      },
      "source": [
        "<a href=\"https://colab.research.google.com/github/sivsri/jovian/blob/main/numpy_operations_assignment_2.ipynb\" target=\"_parent\"><img src=\"https://colab.research.google.com/assets/colab-badge.svg\" alt=\"Open In Colab\"/></a>"
      ]
    },
    {
      "cell_type": "code",
      "execution_count": 1,
      "metadata": {
        "id": "BRWZgLUnbNXZ"
      },
      "outputs": [],
      "source": [
        "import numpy as np"
      ]
    },
    {
      "cell_type": "code",
      "execution_count": null,
      "metadata": {
        "id": "alllxO12bNXZ"
      },
      "outputs": [],
      "source": [
        "# List of functions explained \n",
        "function1 = np.full_like\n",
        "function2 = np.append\n",
        "function3 = np.linalg.det, np.linalg.inv\n",
        "function4 = np.all, np.any\n",
        "function5 = np.percentile"
      ]
    },
    {
      "cell_type": "markdown",
      "metadata": {
        "id": "G446YaVsbNXa"
      },
      "source": [
        "## Function 1 - np.full_like\n",
        "\n",
        "Returns array with the shape of the given array"
      ]
    },
    {
      "cell_type": "code",
      "execution_count": 24,
      "metadata": {
        "colab": {
          "base_uri": "https://localhost:8080/"
        },
        "id": "2BPWyajvbNXb",
        "outputId": "c90d4cff-4f0f-42c1-c80b-3f9bc9817a72"
      },
      "outputs": [
        {
          "output_type": "execute_result",
          "data": {
            "text/plain": [
              "array([[5, 5],\n",
              "       [5, 5]])"
            ]
          },
          "metadata": {},
          "execution_count": 24
        }
      ],
      "source": [
        "# Example 1 - working (change this)\n",
        "a = [[1, 2], [3, 4]]\n",
        "\n",
        "like = np.full_like(a, 5)\n",
        "like"
      ]
    },
    {
      "cell_type": "markdown",
      "metadata": {
        "id": "YImyq_VdbNXc"
      },
      "source": [
        "array 'like' has the shape of array 'a' and filled with value of 2nd parameter passed, related to np.full but instead of explicit shape it takes the shape of array passed to it"
      ]
    },
    {
      "cell_type": "code",
      "execution_count": 27,
      "metadata": {
        "colab": {
          "base_uri": "https://localhost:8080/"
        },
        "id": "Dpf81X08bNXc",
        "outputId": "ba1d1646-b46a-45f1-9834-1b75c442e56e"
      },
      "outputs": [
        {
          "output_type": "execute_result",
          "data": {
            "text/plain": [
              "array([[0, 0],\n",
              "       [0, 0]])"
            ]
          },
          "metadata": {},
          "execution_count": 27
        }
      ],
      "source": [
        "# Example 2 - working\n",
        "like_0 = np.zeros_like(a)\n",
        "like_0"
      ]
    },
    {
      "cell_type": "code",
      "execution_count": 28,
      "metadata": {
        "colab": {
          "base_uri": "https://localhost:8080/"
        },
        "id": "yeYVkgUrbNXe",
        "outputId": "92db993b-59e7-45b5-b036-7c65045c9213"
      },
      "outputs": [
        {
          "output_type": "execute_result",
          "data": {
            "text/plain": [
              "array([[1, 1],\n",
              "       [1, 1]])"
            ]
          },
          "metadata": {},
          "execution_count": 28
        }
      ],
      "source": [
        "like_1 = np.ones_like(a)\n",
        "like_1"
      ]
    },
    {
      "cell_type": "markdown",
      "source": [
        "similarly, zeros and ones"
      ],
      "metadata": {
        "id": "IAKCCYb4GkBm"
      }
    },
    {
      "cell_type": "markdown",
      "metadata": {
        "id": "N1DrBfUAbNXf"
      },
      "source": [
        "## Function 2 - np.append\n",
        "\n",
        "append values to the end of the array"
      ]
    },
    {
      "cell_type": "code",
      "execution_count": 30,
      "metadata": {
        "colab": {
          "base_uri": "https://localhost:8080/"
        },
        "id": "kE1eU3EUbNXg",
        "outputId": "27d85be6-0d31-4499-e742-97d9439f15f1"
      },
      "outputs": [
        {
          "output_type": "execute_result",
          "data": {
            "text/plain": [
              "array([1, 2, 3, 4, 5, 6, 7, 8, 9])"
            ]
          },
          "metadata": {},
          "execution_count": 30
        }
      ],
      "source": [
        "# Example 1 - working\n",
        "np.append([1, 2, 3], [4, 5, 6, 7, 8, 9])"
      ]
    },
    {
      "cell_type": "markdown",
      "metadata": {
        "id": "6_UOF6WlbNXi"
      },
      "source": [
        "1st parameter is array and the 2nd is the values"
      ]
    },
    {
      "cell_type": "code",
      "execution_count": 37,
      "metadata": {
        "colab": {
          "base_uri": "https://localhost:8080/"
        },
        "id": "FWLXP0hYbNXi",
        "outputId": "3096d765-fa4d-4965-9ca1-048117470ee6"
      },
      "outputs": [
        {
          "output_type": "execute_result",
          "data": {
            "text/plain": [
              "array([[1, 2, 3],\n",
              "       [4, 5, 6],\n",
              "       [7, 8, 9]])"
            ]
          },
          "metadata": {},
          "execution_count": 37
        }
      ],
      "source": [
        "# Example 2 - working\n",
        "np.append([[1, 2, 3]], [[4, 5, 6], [7, 8, 9]], axis=0)"
      ]
    },
    {
      "cell_type": "markdown",
      "metadata": {
        "id": "IZnSd9N1bNXi"
      },
      "source": [
        "3rd parameter is for column axis, by default its row-wise"
      ]
    },
    {
      "cell_type": "code",
      "execution_count": 38,
      "metadata": {
        "colab": {
          "base_uri": "https://localhost:8080/",
          "height": 277
        },
        "id": "qKUMZjYdbNXk",
        "outputId": "6e4de6bc-c89d-4e1d-9509-21b252fe13a5"
      },
      "outputs": [
        {
          "output_type": "error",
          "ename": "ValueError",
          "evalue": "ignored",
          "traceback": [
            "\u001b[0;31m---------------------------------------------------------------------------\u001b[0m",
            "\u001b[0;31mValueError\u001b[0m                                Traceback (most recent call last)",
            "\u001b[0;32m<ipython-input-38-f0f0f2ffcf7d>\u001b[0m in \u001b[0;36m<cell line: 3>\u001b[0;34m()\u001b[0m\n\u001b[1;32m      1\u001b[0m \u001b[0;31m# Example 3 - breaking (to illustrate when it breaks)\u001b[0m\u001b[0;34m\u001b[0m\u001b[0;34m\u001b[0m\u001b[0m\n\u001b[1;32m      2\u001b[0m \u001b[0mb\u001b[0m \u001b[0;34m=\u001b[0m \u001b[0mnp\u001b[0m\u001b[0;34m.\u001b[0m\u001b[0marray\u001b[0m\u001b[0;34m(\u001b[0m\u001b[0;34m[\u001b[0m\u001b[0;36m1\u001b[0m\u001b[0;34m,\u001b[0m\u001b[0;36m2\u001b[0m\u001b[0;34m,\u001b[0m\u001b[0;36m3\u001b[0m\u001b[0;34m]\u001b[0m\u001b[0;34m)\u001b[0m\u001b[0;34m\u001b[0m\u001b[0;34m\u001b[0m\u001b[0m\n\u001b[0;32m----> 3\u001b[0;31m \u001b[0mnp\u001b[0m\u001b[0;34m.\u001b[0m\u001b[0mappend\u001b[0m\u001b[0;34m(\u001b[0m\u001b[0;34m[\u001b[0m\u001b[0;34m[\u001b[0m\u001b[0;36m4\u001b[0m\u001b[0;34m,\u001b[0m \u001b[0;36m5\u001b[0m\u001b[0;34m,\u001b[0m \u001b[0;36m6\u001b[0m\u001b[0;34m]\u001b[0m\u001b[0;34m,\u001b[0m \u001b[0;34m[\u001b[0m\u001b[0;36m7\u001b[0m\u001b[0;34m,\u001b[0m \u001b[0;36m8\u001b[0m\u001b[0;34m,\u001b[0m \u001b[0;36m9\u001b[0m\u001b[0;34m]\u001b[0m\u001b[0;34m]\u001b[0m\u001b[0;34m,\u001b[0m \u001b[0mb\u001b[0m\u001b[0;34m,\u001b[0m \u001b[0maxis\u001b[0m\u001b[0;34m=\u001b[0m\u001b[0;36m0\u001b[0m\u001b[0;34m)\u001b[0m\u001b[0;34m\u001b[0m\u001b[0;34m\u001b[0m\u001b[0m\n\u001b[0m",
            "\u001b[0;32m/usr/local/lib/python3.10/dist-packages/numpy/core/overrides.py\u001b[0m in \u001b[0;36mappend\u001b[0;34m(*args, **kwargs)\u001b[0m\n",
            "\u001b[0;32m/usr/local/lib/python3.10/dist-packages/numpy/lib/function_base.py\u001b[0m in \u001b[0;36mappend\u001b[0;34m(arr, values, axis)\u001b[0m\n\u001b[1;32m   5390\u001b[0m         \u001b[0mvalues\u001b[0m \u001b[0;34m=\u001b[0m \u001b[0mravel\u001b[0m\u001b[0;34m(\u001b[0m\u001b[0mvalues\u001b[0m\u001b[0;34m)\u001b[0m\u001b[0;34m\u001b[0m\u001b[0;34m\u001b[0m\u001b[0m\n\u001b[1;32m   5391\u001b[0m         \u001b[0maxis\u001b[0m \u001b[0;34m=\u001b[0m \u001b[0marr\u001b[0m\u001b[0;34m.\u001b[0m\u001b[0mndim\u001b[0m\u001b[0;34m-\u001b[0m\u001b[0;36m1\u001b[0m\u001b[0;34m\u001b[0m\u001b[0;34m\u001b[0m\u001b[0m\n\u001b[0;32m-> 5392\u001b[0;31m     \u001b[0;32mreturn\u001b[0m \u001b[0mconcatenate\u001b[0m\u001b[0;34m(\u001b[0m\u001b[0;34m(\u001b[0m\u001b[0marr\u001b[0m\u001b[0;34m,\u001b[0m \u001b[0mvalues\u001b[0m\u001b[0;34m)\u001b[0m\u001b[0;34m,\u001b[0m \u001b[0maxis\u001b[0m\u001b[0;34m=\u001b[0m\u001b[0maxis\u001b[0m\u001b[0;34m)\u001b[0m\u001b[0;34m\u001b[0m\u001b[0;34m\u001b[0m\u001b[0m\n\u001b[0m\u001b[1;32m   5393\u001b[0m \u001b[0;34m\u001b[0m\u001b[0m\n\u001b[1;32m   5394\u001b[0m \u001b[0;34m\u001b[0m\u001b[0m\n",
            "\u001b[0;32m/usr/local/lib/python3.10/dist-packages/numpy/core/overrides.py\u001b[0m in \u001b[0;36mconcatenate\u001b[0;34m(*args, **kwargs)\u001b[0m\n",
            "\u001b[0;31mValueError\u001b[0m: all the input arrays must have same number of dimensions, but the array at index 0 has 2 dimension(s) and the array at index 1 has 1 dimension(s)"
          ]
        }
      ],
      "source": [
        "# Example 3 - breaking (to illustrate when it breaks)\n",
        "b = np.array([1,2,3])\n",
        "np.append([[4, 5, 6], [7, 8, 9]], b, axis=0)"
      ]
    },
    {
      "cell_type": "markdown",
      "source": [
        "for 2-D array the values passed to append should be 2 Dimension too else the above error happens"
      ],
      "metadata": {
        "id": "4eXk6IsJPyhs"
      }
    },
    {
      "cell_type": "code",
      "source": [
        "np.append([[4, 5, 6], [7, 8, 9]], [b], axis=0)"
      ],
      "metadata": {
        "colab": {
          "base_uri": "https://localhost:8080/"
        },
        "id": "0xdtwywbPaqq",
        "outputId": "ea7b22de-b8b4-4fa1-c190-b03101b99fad"
      },
      "execution_count": 39,
      "outputs": [
        {
          "output_type": "execute_result",
          "data": {
            "text/plain": [
              "array([[4, 5, 6],\n",
              "       [7, 8, 9],\n",
              "       [1, 2, 3]])"
            ]
          },
          "metadata": {},
          "execution_count": 39
        }
      ]
    },
    {
      "cell_type": "markdown",
      "metadata": {
        "id": "fNfV5-JNbNXk"
      },
      "source": [
        "the error's cleared after enclosing the array 'b' within an array itself."
      ]
    },
    {
      "cell_type": "markdown",
      "metadata": {
        "id": "12An-wT2bNXk"
      },
      "source": [
        "## Function 3 - np.linalg.det, np.linalg.inv\n",
        "\n",
        "determinant and inverse of a matrix"
      ]
    },
    {
      "cell_type": "code",
      "execution_count": 21,
      "metadata": {
        "colab": {
          "base_uri": "https://localhost:8080/"
        },
        "id": "t1L5FmxBbNXl",
        "outputId": "e49ed55e-825a-4cb8-cb18-cdb9ae9a829b"
      },
      "outputs": [
        {
          "output_type": "execute_result",
          "data": {
            "text/plain": [
              "-2.0000000000000004"
            ]
          },
          "metadata": {},
          "execution_count": 21
        }
      ],
      "source": [
        "# Example 1 - working\n",
        "c = np.array([[1, 2], [3, 4]])\n",
        "np.linalg.det(c)"
      ]
    },
    {
      "cell_type": "markdown",
      "metadata": {
        "id": "8V22ZafSbNXl"
      },
      "source": [
        "The determinant of 2-D array of [ [a, b], [c, d] ] is ad - bc"
      ]
    },
    {
      "cell_type": "code",
      "execution_count": 22,
      "metadata": {
        "colab": {
          "base_uri": "https://localhost:8080/"
        },
        "id": "SjZtKggZbNXl",
        "outputId": "589d2701-fe58-41a5-9e36-5dda5f081b7b"
      },
      "outputs": [
        {
          "output_type": "execute_result",
          "data": {
            "text/plain": [
              "array([[-2. ,  1. ],\n",
              "       [ 1.5, -0.5]])"
            ]
          },
          "metadata": {},
          "execution_count": 22
        }
      ],
      "source": [
        "# Example 2 - working\n",
        "np.linalg.inv(c)"
      ]
    },
    {
      "cell_type": "markdown",
      "metadata": {
        "id": "9JIqntLybNXl"
      },
      "source": [
        "The above result is inverse of matrix 'c'"
      ]
    },
    {
      "cell_type": "markdown",
      "metadata": {
        "id": "s3DWieMFbNXl"
      },
      "source": [
        "linalg(linear algebra) is a sub-package of NumPy"
      ]
    },
    {
      "cell_type": "markdown",
      "metadata": {
        "id": "ZsFi20QtbNXm"
      },
      "source": [
        "## Function 4 - np.all, np.any\n",
        "\n",
        "Returns True or False based on the elements present in an array"
      ]
    },
    {
      "cell_type": "code",
      "execution_count": 17,
      "metadata": {
        "colab": {
          "base_uri": "https://localhost:8080/"
        },
        "id": "SJ1iMJ7dbNXm",
        "outputId": "a8e3a373-fe5f-462c-8d7b-ff258ef3770f"
      },
      "outputs": [
        {
          "output_type": "execute_result",
          "data": {
            "text/plain": [
              "True"
            ]
          },
          "metadata": {},
          "execution_count": 17
        }
      ],
      "source": [
        "# Example 1 - working\n",
        "np.all([3, 4, 5])"
      ]
    },
    {
      "cell_type": "markdown",
      "metadata": {
        "id": "E5fn5xfMbNXn"
      },
      "source": [
        "All the elements present in the array are truthy values, so the result is True"
      ]
    },
    {
      "cell_type": "code",
      "execution_count": 18,
      "metadata": {
        "colab": {
          "base_uri": "https://localhost:8080/"
        },
        "id": "Eu5GnOMSbNXn",
        "outputId": "594ab369-268a-496c-aafc-1f70f61436bc"
      },
      "outputs": [
        {
          "output_type": "execute_result",
          "data": {
            "text/plain": [
              "False"
            ]
          },
          "metadata": {},
          "execution_count": 18
        }
      ],
      "source": [
        "# Example 2 - working\n",
        "np.all([0, 4, 5])"
      ]
    },
    {
      "cell_type": "markdown",
      "metadata": {
        "id": "bpWVUNjabNXo"
      },
      "source": [
        "The first element in the array is falsy, all the elements should be truthy value"
      ]
    },
    {
      "cell_type": "code",
      "execution_count": 19,
      "metadata": {
        "colab": {
          "base_uri": "https://localhost:8080/"
        },
        "id": "xLKV8LuDbNXo",
        "outputId": "278e0dc9-4910-47aa-e8d6-96270d8ebbd0"
      },
      "outputs": [
        {
          "output_type": "execute_result",
          "data": {
            "text/plain": [
              "True"
            ]
          },
          "metadata": {},
          "execution_count": 19
        }
      ],
      "source": [
        "# Example 3 - np.any\n",
        "np.any([0, 4, 5])"
      ]
    },
    {
      "cell_type": "markdown",
      "source": [
        "The result is True if any one truthy value in the array"
      ],
      "metadata": {
        "id": "YAxGC0Uh2_Cm"
      }
    },
    {
      "cell_type": "code",
      "source": [
        "np.any([0, 0, 0])"
      ],
      "metadata": {
        "colab": {
          "base_uri": "https://localhost:8080/"
        },
        "id": "jvJmRujE2h07",
        "outputId": "0a1efdca-2d97-49f9-fc41-95f7f61371e1"
      },
      "execution_count": 20,
      "outputs": [
        {
          "output_type": "execute_result",
          "data": {
            "text/plain": [
              "False"
            ]
          },
          "metadata": {},
          "execution_count": 20
        }
      ]
    },
    {
      "cell_type": "markdown",
      "metadata": {
        "id": "h9U81dzsbNXo"
      },
      "source": [
        "The result is False cause there is no truthy value in this above array, basically it check for any one truthy."
      ]
    },
    {
      "cell_type": "markdown",
      "metadata": {
        "id": "tf_cD_0qbNXp"
      },
      "source": [
        "## Function 5 - np.percentile\n",
        "\n",
        "It gives n-th percentile of the data"
      ]
    },
    {
      "cell_type": "code",
      "execution_count": 11,
      "metadata": {
        "colab": {
          "base_uri": "https://localhost:8080/"
        },
        "id": "v0a4ZT27bNXp",
        "outputId": "e5417cba-ab48-4171-f92a-fdce9bc0ced7"
      },
      "outputs": [
        {
          "output_type": "execute_result",
          "data": {
            "text/plain": [
              "array([[20, 14,  8],\n",
              "       [ 6,  4,  2]])"
            ]
          },
          "metadata": {},
          "execution_count": 11
        }
      ],
      "source": [
        "# Example 1 - working\n",
        "e = np.array([[20, 14, 8], [6, 4, 2]])\n",
        "e"
      ]
    },
    {
      "cell_type": "code",
      "source": [
        "np.percentile(e, 50)"
      ],
      "metadata": {
        "colab": {
          "base_uri": "https://localhost:8080/"
        },
        "id": "UIB1jmAcsh7S",
        "outputId": "359661e4-d117-49a8-93dd-77ffcf1802ea"
      },
      "execution_count": 12,
      "outputs": [
        {
          "output_type": "execute_result",
          "data": {
            "text/plain": [
              "7.0"
            ]
          },
          "metadata": {},
          "execution_count": 12
        }
      ]
    },
    {
      "cell_type": "markdown",
      "metadata": {
        "id": "EUQVvQ1ybNXp"
      },
      "source": [
        "Its giving the value of 50th percentile among the array data provided.\n",
        "\n",
        "It sorts all the data in ascending and provides the value according to percentile given to it."
      ]
    },
    {
      "cell_type": "code",
      "execution_count": 14,
      "metadata": {
        "colab": {
          "base_uri": "https://localhost:8080/"
        },
        "id": "5ukU7fmVbNXp",
        "outputId": "038ee997-cad8-422f-fd46-19feb89ae927"
      },
      "outputs": [
        {
          "output_type": "execute_result",
          "data": {
            "text/plain": [
              "array([16.5, 11.5,  6.5])"
            ]
          },
          "metadata": {},
          "execution_count": 14
        }
      ],
      "source": [
        "# Example 2 - working\n",
        "np.percentile(e, 75, axis=0)"
      ]
    },
    {
      "cell_type": "code",
      "source": [
        "np.percentile(e, 25, axis=1)"
      ],
      "metadata": {
        "colab": {
          "base_uri": "https://localhost:8080/"
        },
        "id": "oH7uwuowuNQb",
        "outputId": "82327ccd-9588-415c-f311-664bd2a56cc8"
      },
      "execution_count": 15,
      "outputs": [
        {
          "output_type": "execute_result",
          "data": {
            "text/plain": [
              "array([11.,  3.])"
            ]
          },
          "metadata": {},
          "execution_count": 15
        }
      ]
    },
    {
      "cell_type": "markdown",
      "metadata": {
        "id": "sRYegt5KbNXp"
      },
      "source": [
        "It also takes 3rd parameter, for row or col operations as axis."
      ]
    },
    {
      "cell_type": "code",
      "execution_count": 16,
      "metadata": {
        "colab": {
          "base_uri": "https://localhost:8080/",
          "height": 329
        },
        "id": "tWLzXKCPbNXp",
        "outputId": "24e1c8fa-8f06-460a-88f1-665f2fecb77c"
      },
      "outputs": [
        {
          "output_type": "error",
          "ename": "ValueError",
          "evalue": "ignored",
          "traceback": [
            "\u001b[0;31m---------------------------------------------------------------------------\u001b[0m",
            "\u001b[0;31mValueError\u001b[0m                                Traceback (most recent call last)",
            "\u001b[0;32m<ipython-input-16-e30974ee573f>\u001b[0m in \u001b[0;36m<cell line: 2>\u001b[0;34m()\u001b[0m\n\u001b[1;32m      1\u001b[0m \u001b[0;31m# Example 3 - breaking (to illustrate when it breaks)\u001b[0m\u001b[0;34m\u001b[0m\u001b[0;34m\u001b[0m\u001b[0m\n\u001b[0;32m----> 2\u001b[0;31m \u001b[0mnp\u001b[0m\u001b[0;34m.\u001b[0m\u001b[0mpercentile\u001b[0m\u001b[0;34m(\u001b[0m\u001b[0me\u001b[0m\u001b[0;34m,\u001b[0m \u001b[0;36m150\u001b[0m\u001b[0;34m)\u001b[0m\u001b[0;34m\u001b[0m\u001b[0;34m\u001b[0m\u001b[0m\n\u001b[0m",
            "\u001b[0;32m/usr/local/lib/python3.10/dist-packages/numpy/core/overrides.py\u001b[0m in \u001b[0;36mpercentile\u001b[0;34m(*args, **kwargs)\u001b[0m\n",
            "\u001b[0;32m/usr/local/lib/python3.10/dist-packages/numpy/lib/function_base.py\u001b[0m in \u001b[0;36mpercentile\u001b[0;34m(a, q, axis, out, overwrite_input, method, keepdims, interpolation)\u001b[0m\n\u001b[1;32m   4131\u001b[0m     \u001b[0mq\u001b[0m \u001b[0;34m=\u001b[0m \u001b[0masanyarray\u001b[0m\u001b[0;34m(\u001b[0m\u001b[0mq\u001b[0m\u001b[0;34m)\u001b[0m  \u001b[0;31m# undo any decay that the ufunc performed (see gh-13105)\u001b[0m\u001b[0;34m\u001b[0m\u001b[0;34m\u001b[0m\u001b[0m\n\u001b[1;32m   4132\u001b[0m     \u001b[0;32mif\u001b[0m \u001b[0;32mnot\u001b[0m \u001b[0m_quantile_is_valid\u001b[0m\u001b[0;34m(\u001b[0m\u001b[0mq\u001b[0m\u001b[0;34m)\u001b[0m\u001b[0;34m:\u001b[0m\u001b[0;34m\u001b[0m\u001b[0;34m\u001b[0m\u001b[0m\n\u001b[0;32m-> 4133\u001b[0;31m         \u001b[0;32mraise\u001b[0m \u001b[0mValueError\u001b[0m\u001b[0;34m(\u001b[0m\u001b[0;34m\"Percentiles must be in the range [0, 100]\"\u001b[0m\u001b[0;34m)\u001b[0m\u001b[0;34m\u001b[0m\u001b[0;34m\u001b[0m\u001b[0m\n\u001b[0m\u001b[1;32m   4134\u001b[0m     return _quantile_unchecked(\n\u001b[1;32m   4135\u001b[0m         a, q, axis, out, overwrite_input, method, keepdims)\n",
            "\u001b[0;31mValueError\u001b[0m: Percentiles must be in the range [0, 100]"
          ]
        }
      ],
      "source": [
        "# Example 3 - breaking (to illustrate when it breaks)\n",
        "np.percentile(e, 150)"
      ]
    },
    {
      "cell_type": "markdown",
      "metadata": {
        "id": "T3vqlHDcbNXp"
      },
      "source": [
        "As above, the error states ValueError: Percentiles should range from 0 and 100 not 150"
      ]
    },
    {
      "cell_type": "markdown",
      "metadata": {
        "id": "iIyURM39bNXq"
      },
      "source": [
        "Its used in statistical operations like when need to know about the percentile value of the data.\n",
        "\n",
        "Also, there's one more similar kinda function 'np.quantile'. Its exactly same as percentile but it takes 'n-th quartile' from 0 to 1\n",
        "\n",
        "example: np.quantile(e, 0.33)"
      ]
    },
    {
      "cell_type": "markdown",
      "metadata": {
        "id": "y2XNRBx0bNXq"
      },
      "source": [
        "## Conclusion\n",
        "\n",
        "Gone through the documentation and got familiar with NumPy.\n",
        "\n",
        "Up next, the pandas library."
      ]
    }
  ],
  "metadata": {
    "kernelspec": {
      "display_name": "Python 3",
      "language": "python",
      "name": "python3"
    },
    "language_info": {
      "codemirror_mode": {
        "name": "ipython",
        "version": 3
      },
      "file_extension": ".py",
      "mimetype": "text/x-python",
      "name": "python",
      "nbconvert_exporter": "python",
      "pygments_lexer": "ipython3",
      "version": "3.8.6"
    },
    "colab": {
      "provenance": [],
      "include_colab_link": true
    }
  },
  "nbformat": 4,
  "nbformat_minor": 0
}